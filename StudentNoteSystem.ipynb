{
 "cells": [
  {
   "cell_type": "code",
   "execution_count": 49,
   "id": "c581f047",
   "metadata": {},
   "outputs": [],
   "source": [
    "class Student:\n",
    "    def __init__(self, name, surname, no, lesson, vizePuani, finalPuani, sonuc, passExam):\n",
    "        self.name = name\n",
    "        self.surname = surname\n",
    "        self.no = no\n",
    "        self.lesson = lesson\n",
    "        self.midterm_exam = midterm_exam\n",
    "        self.final_exam = final_exam\n",
    "        self.success= success\n",
    "        self.passExam= passExam"
   ]
  },
  {
   "cell_type": "code",
   "execution_count": 50,
   "id": "7329ba33",
   "metadata": {},
   "outputs": [],
   "source": [
    "student_list=[]"
   ]
  },
  {
   "cell_type": "code",
   "execution_count": 51,
   "id": "659b4034",
   "metadata": {},
   "outputs": [
    {
     "name": "stdout",
     "output_type": "stream",
     "text": [
      "Öğrenci Adı: ayşe\n",
      "öğrenci Soyadı: yılmaz\n",
      "Öğrenci Numarası:34\n",
      "Öğrenci Dersi: mat\n",
      "Vize Puanı:43\n",
      "Final Puanı:89\n"
     ]
    }
   ],
   "source": [
    "name = input(\"Öğrenci Adı: \")\n",
    "surname = input(\"öğrenci Soyadı: \")\n",
    "student_no = input(\"Öğrenci Numarası:\")\n",
    "lesson = input(\"Öğrenci Dersi: \")\n",
    "midterm_exam= input(\"Vize Puanı:\")\n",
    "final_exam= input(\"Final Puanı:\")"
   ]
  },
  {
   "cell_type": "code",
   "execution_count": 52,
   "id": "8ad29575",
   "metadata": {},
   "outputs": [],
   "source": [
    "success = int(midterm_exam)*(4/10) + int(final_exam)*(6/10)"
   ]
  },
  {
   "cell_type": "code",
   "execution_count": 53,
   "id": "3bab532d",
   "metadata": {},
   "outputs": [
    {
     "name": "stdout",
     "output_type": "stream",
     "text": [
      "Harf Notu: CC\n",
      "Ortalama\n",
      "70.6\n"
     ]
    }
   ],
   "source": [
    "if(success >=90):\n",
    "    print(\"Harf Notu: AA\")\n",
    "elif(success>=85):\n",
    "    print(\"Harf Notu: BA\")\n",
    "elif(success>=80):\n",
    "    print(\"Harf Notu: BB\")\n",
    "elif(success>=75):\n",
    "    print(\"Harf Notu: CB\")\n",
    "elif(success>=70):\n",
    "    print(\"Harf Notu: CC\")\n",
    "elif(success>=65):\n",
    "    print(\"Harf Notu: DC\")\n",
    "elif(success>=60):\n",
    "    print(\"Harf Notu: DD\")\n",
    "elif(success>=55):\n",
    "    print(\"Harf Notu: FF\")\n",
    "print (\"Ortalama\") \n",
    "print (success)"
   ]
  },
  {
   "cell_type": "code",
   "execution_count": 54,
   "id": "caeb3123",
   "metadata": {},
   "outputs": [
    {
     "name": "stdout",
     "output_type": "stream",
     "text": [
      "Sonuç :70.6 \n",
      "Geçtiniz\n"
     ]
    }
   ],
   "source": [
    "print(\"Sonuç :{0} \".format(success))\n",
    "if(success<50):\n",
    "    print(\"Kaldınız\")\n",
    "    passExam = \"Kaldınız\"\n",
    "else:\n",
    "    print(\"Geçtiniz\")\n",
    "    passExam = \"Geçtiniz\""
   ]
  },
  {
   "cell_type": "code",
   "execution_count": 55,
   "id": "d467805f",
   "metadata": {},
   "outputs": [],
   "source": [
    "student_list.append(Student(name, surname, student_no, lesson, midterm_exam, final_exam, success, passExam))"
   ]
  },
  {
   "cell_type": "code",
   "execution_count": 56,
   "id": "735632f5",
   "metadata": {},
   "outputs": [
    {
     "name": "stdout",
     "output_type": "stream",
     "text": [
      "Name: ayşe, Surname: yılmaz\n"
     ]
    }
   ],
   "source": [
    "for student in student_list:\n",
    "    print('Name: {}, Surname: {}'.format(student.name, student.surname))"
   ]
  },
  {
   "cell_type": "code",
   "execution_count": 57,
   "id": "b5fff4c3",
   "metadata": {},
   "outputs": [],
   "source": [
    "#vize = input(\"Vize:\")\n",
    "#Final = input(\"Final:\")"
   ]
  },
  {
   "cell_type": "code",
   "execution_count": 58,
   "id": "e9601a41",
   "metadata": {},
   "outputs": [
    {
     "name": "stdout",
     "output_type": "stream",
     "text": [
      "[<__main__.Student object at 0x7faeb800ee80>]\n"
     ]
    }
   ],
   "source": [
    "print(student_list)"
   ]
  },
  {
   "cell_type": "code",
   "execution_count": 59,
   "id": "f025e7c5",
   "metadata": {},
   "outputs": [],
   "source": [
    "import pandas as pd"
   ]
  },
  {
   "cell_type": "code",
   "execution_count": 60,
   "id": "5fbc95bd",
   "metadata": {},
   "outputs": [
    {
     "name": "stdout",
     "output_type": "stream",
     "text": [
      "                                             0\n",
      "0  <__main__.Student object at 0x7faeb800ee80>\n"
     ]
    }
   ],
   "source": [
    "df = pd.DataFrame(student_list)\n",
    "print(df)"
   ]
  },
  {
   "cell_type": "code",
   "execution_count": 61,
   "id": "1e824324",
   "metadata": {},
   "outputs": [],
   "source": [
    "df = pd.DataFrame([t.__dict__ for t in student_list ])"
   ]
  },
  {
   "cell_type": "code",
   "execution_count": 62,
   "id": "8da7bb76",
   "metadata": {},
   "outputs": [
    {
     "data": {
      "text/html": [
       "<div>\n",
       "<style scoped>\n",
       "    .dataframe tbody tr th:only-of-type {\n",
       "        vertical-align: middle;\n",
       "    }\n",
       "\n",
       "    .dataframe tbody tr th {\n",
       "        vertical-align: top;\n",
       "    }\n",
       "\n",
       "    .dataframe thead th {\n",
       "        text-align: right;\n",
       "    }\n",
       "</style>\n",
       "<table border=\"1\" class=\"dataframe\">\n",
       "  <thead>\n",
       "    <tr style=\"text-align: right;\">\n",
       "      <th></th>\n",
       "      <th>name</th>\n",
       "      <th>surname</th>\n",
       "      <th>no</th>\n",
       "      <th>lesson</th>\n",
       "      <th>midterm_exam</th>\n",
       "      <th>final_exam</th>\n",
       "      <th>success</th>\n",
       "      <th>passExam</th>\n",
       "    </tr>\n",
       "  </thead>\n",
       "  <tbody>\n",
       "    <tr>\n",
       "      <th>0</th>\n",
       "      <td>ayşe</td>\n",
       "      <td>yılmaz</td>\n",
       "      <td>34</td>\n",
       "      <td>mat</td>\n",
       "      <td>43</td>\n",
       "      <td>89</td>\n",
       "      <td>70.6</td>\n",
       "      <td>Geçtiniz</td>\n",
       "    </tr>\n",
       "  </tbody>\n",
       "</table>\n",
       "</div>"
      ],
      "text/plain": [
       "   name surname  no lesson midterm_exam final_exam  success  passExam\n",
       "0  ayşe  yılmaz  34    mat           43         89     70.6  Geçtiniz"
      ]
     },
     "execution_count": 62,
     "metadata": {},
     "output_type": "execute_result"
    }
   ],
   "source": [
    "df"
   ]
  },
  {
   "cell_type": "code",
   "execution_count": 63,
   "id": "c46c03dd",
   "metadata": {},
   "outputs": [
    {
     "data": {
      "text/plain": [
       "'ayşe'"
      ]
     },
     "execution_count": 63,
     "metadata": {},
     "output_type": "execute_result"
    }
   ],
   "source": [
    "student_list[0].name"
   ]
  },
  {
   "cell_type": "code",
   "execution_count": 64,
   "id": "cd0bce61",
   "metadata": {},
   "outputs": [],
   "source": [
    "import openpyxl"
   ]
  },
  {
   "cell_type": "code",
   "execution_count": 48,
   "id": "5db668bf",
   "metadata": {},
   "outputs": [],
   "source": [
    "df.to_excel(\"ogrenci_listesi1.xlsx\")"
   ]
  },
  {
   "cell_type": "code",
   "execution_count": 36,
   "id": "68533851",
   "metadata": {},
   "outputs": [],
   "source": [
    "df.to_excel('pandas_to_excel.xlsx', sheet_name='ogrenci_listesi')"
   ]
  },
  {
   "cell_type": "code",
   "execution_count": null,
   "id": "80562646",
   "metadata": {},
   "outputs": [],
   "source": []
  }
 ],
 "metadata": {
  "kernelspec": {
   "display_name": "Python 3",
   "language": "python",
   "name": "python3"
  },
  "language_info": {
   "codemirror_mode": {
    "name": "ipython",
    "version": 3
   },
   "file_extension": ".py",
   "mimetype": "text/x-python",
   "name": "python",
   "nbconvert_exporter": "python",
   "pygments_lexer": "ipython3",
   "version": "3.8.8"
  },
  "toc": {
   "base_numbering": 1,
   "nav_menu": {},
   "number_sections": true,
   "sideBar": true,
   "skip_h1_title": false,
   "title_cell": "Table of Contents",
   "title_sidebar": "Contents",
   "toc_cell": false,
   "toc_position": {},
   "toc_section_display": true,
   "toc_window_display": false
  }
 },
 "nbformat": 4,
 "nbformat_minor": 5
}
